{
 "cells": [
  {
   "cell_type": "markdown",
   "id": "3bde733b",
   "metadata": {},
   "source": [
    "## File I/O"
   ]
  },
  {
   "cell_type": "markdown",
   "id": "4318787a",
   "metadata": {},
   "source": [
    "### Exercise – word frequency"
   ]
  },
  {
   "cell_type": "code",
   "execution_count": 3,
   "id": "90e4009a",
   "metadata": {},
   "outputs": [
    {
     "name": "stdout",
     "output_type": "stream",
     "text": [
      "{'How': 1, 'much': 3, 'wood': 4, 'would': 3, 'a': 4, 'woodchuck': 4, 'chuck': 5, 'if': 2, 'could': 3, 'He': 1, 'as': 4, 'he': 1, 'and': 1}\n"
     ]
    }
   ],
   "source": [
    "import json\n",
    "freq={}\n",
    "with open('../data_in/twister.txt') as file:\n",
    "    for line in file:\n",
    "        for word in line.split():\n",
    "            freq[word]=freq.get(word,0)+1\n",
    "print(freq)\n",
    "\n",
    "json_object = json.dumps(freq, indent=3)\n",
    "\n",
    "with open(\"../data_out/freq.json\", \"w\") as outfile:\n",
    "    outfile.write(json_object)"
   ]
  },
  {
   "cell_type": "markdown",
   "id": "2543a35b",
   "metadata": {},
   "source": [
    "### Exercise – tennis court"
   ]
  },
  {
   "cell_type": "code",
   "execution_count": 9,
   "id": "dea4e669",
   "metadata": {},
   "outputs": [
    {
     "name": "stdout",
     "output_type": "stream",
     "text": [
      "55\n",
      "[('Ho Man Tin Sports Centre', 'Kowloon City', '2', '2762-7837'), ('Junction Road Park', 'Kowloon City', '6', '2336-4638'), ('Ma Tau Wai Service Reservoir Playground', 'Kowloon City', '4', '2713-7252/2711-1532')]\n"
     ]
    }
   ],
   "source": [
    "import json\n",
    "import csv\n",
    "with open('../data_in/tennis_raw.json', encoding='utf-8') as handle:\n",
    "    temp=json.load(handle)\n",
    "    tennis=[]\n",
    "   \n",
    " #After class test: \n",
    "    names, districts, nos, phone =[],[],[],[]\n",
    "    for i in temp:\n",
    "        names.append(i.get('Name_en',\"na\"))\n",
    "        districts.append(i.get('District_en',\"na\"))\n",
    "        nos.append(i.get('Court_no_en',\"na\"))\n",
    "        phone.append(i.get('Phone',\"na\").replace(\" / \",\"/\").replace(\" \",\"-\"))\n",
    "    tennis=list(zip(names, districts, nos, phone))\n",
    "'''    \n",
    "    for i in temp:\n",
    "        #better replace everything with get() to prevent error\n",
    "        x=[i.get('Name_en',\"na\"),i.get('District_en',\"na\"),i.get('Court_no_en',\"na\"), \n",
    "           i.get('Phone',\"na\").replace(\" / \",\"/\").replace(\" \",\"-\")]  \n",
    "        tennis.append(list(x))\n",
    "'''        \n",
    "\n",
    "print(len(tennis))\n",
    "print(tennis[:3])\n",
    "\n",
    "with open('../data_out/tennis_clean.csv','w',newline='') as x:\n",
    "    wr_=csv.writer(x)\n",
    "    wr_.writerow(['Name','District','No_of_Courts','Phone'])\n",
    "    wr_.writerows(tennis)"
   ]
  },
  {
   "cell_type": "markdown",
   "id": "a731b39c",
   "metadata": {},
   "source": [
    "## Regular Expressions"
   ]
  },
  {
   "cell_type": "markdown",
   "id": "cbcf2a6a",
   "metadata": {},
   "source": [
    "### Exercise – revision number"
   ]
  },
  {
   "cell_type": "code",
   "execution_count": 130,
   "id": "4e80075f",
   "metadata": {},
   "outputs": [
    {
     "name": "stdout",
     "output_type": "stream",
     "text": [
      "[39771, 39770, 39769, 39766, 39765, 39764, 39763, 39762, 39761, 39760, 39759, 39758, 39757, 39756, 39755, 39754, 39753, 39752, 39751, 39750, 39749, 39746, 39745, 39744, 39743, 39742]\n",
      "26\n",
      "[39771, 39770, 39769, 39766, 39765]\n"
     ]
    }
   ],
   "source": [
    "import re\n",
    "\n",
    "revs=[]\n",
    "with open('../data_in/mbox_short.txt') as file:\n",
    "    for line in file:\n",
    "        x=re.findall(\"^New Revision: ([0-9.]+)\", line)\n",
    "        if len(x)>0:\n",
    "            revs.append(int(x[0]))\n",
    "print(revs)\n",
    "print(len(revs))\n",
    "print(revs[:5])"
   ]
  },
  {
   "cell_type": "markdown",
   "id": "06764a93",
   "metadata": {},
   "source": [
    "### Exercise – IP address"
   ]
  },
  {
   "cell_type": "code",
   "execution_count": 129,
   "id": "94eb90ba",
   "metadata": {},
   "outputs": [
    {
     "name": "stdout",
     "output_type": "stream",
     "text": [
      "188\n",
      "['141.211.14.90', '141.211.14.79', '127.0.0.1', '194.35.219.182', '134.68.220.122']\n"
     ]
    }
   ],
   "source": [
    "import re\n",
    "\n",
    "ips=[]\n",
    "with open('../data_in/mbox_short.txt') as file:\n",
    "    for line in file:\n",
    "        #x=re.findall(\"^Received: from .+\\[([0-9.]+)\\].+\", line)\n",
    "        x=re.findall(\"^Received:.+\\[([0-9]{1,3}\\.[0-9]{1,3}\\.[0-9]{1,3}\\.[0-9]{1,3})\\].+\", line)\n",
    "        if len(x)>0:\n",
    "            ips.append(x[0])\n",
    "\n",
    "print(len(ips))\n",
    "print(ips[:5])"
   ]
  },
  {
   "cell_type": "markdown",
   "id": "8e1bb500",
   "metadata": {},
   "source": [
    "### Exercise – email address "
   ]
  },
  {
   "cell_type": "code",
   "execution_count": 127,
   "id": "728737bf",
   "metadata": {},
   "outputs": [
    {
     "name": "stdout",
     "output_type": "stream",
     "text": [
      "336\n",
      "['stephen.marquard@uct.ac.za', 'postmaster@collab.sakaiproject.org', '200801051412.m05ECIaH010327@nakamura.uits.iupui.edu', 'source@collab.sakaiproject.org', 'source@collab.sakaiproject.org']\n",
      "['cwen@iupui.edu', 'source@collab.sakaiproject.org', 'cwen@iupui.edu', 'cwen@iupui.edu', 'wagnermr@iupui.edu']\n"
     ]
    }
   ],
   "source": [
    "import re\n",
    "\n",
    "emails=[]\n",
    "with open('../data_in/mbox_short.txt') as file:\n",
    "    for line in file:\n",
    "        x=re.findall(\"[a-zA-Z0-9+_.-]+@[a-zA-Z0-9.-]+\", line)\n",
    "        if len(x)>0:\n",
    "            emails.append(x[0])\n",
    "\n",
    "print(len(emails))\n",
    "print(emails[:5])\n",
    "print(emails[-5:])"
   ]
  },
  {
   "cell_type": "markdown",
   "id": "929af031",
   "metadata": {},
   "source": [
    "### Exercise – url "
   ]
  },
  {
   "cell_type": "code",
   "execution_count": 128,
   "id": "ea073730",
   "metadata": {},
   "outputs": [
    {
     "name": "stdout",
     "output_type": "stream",
     "text": [
      "75\n",
      "['http://source.sakaiproject.org', 'https://collab.sakaiproject.org', 'http://source.sakaiproject.org', 'https://collab.sakaiproject.org', 'http://source.sakaiproject.org']\n",
      "['http://source.sakaiproject.org', 'https://source.sakaiproject.org', 'https://source.sakaiproject.org', 'http://bugs.sakaiproject.org', 'https://collab.sakaiproject.org']\n"
     ]
    }
   ],
   "source": [
    "import re\n",
    "\n",
    "url=[]\n",
    "with open('../data_in/mbox_short.txt') as file:\n",
    "    for line in file:\n",
    "        x=re.findall(\"https?://[\\w.]+\", line)\n",
    "        if len(x)>0:\n",
    "            url.append(x[0])\n",
    "\n",
    "print(len(url))\n",
    "print(url[:5])\n",
    "print(url[-5:])"
   ]
  },
  {
   "cell_type": "markdown",
   "id": "ca5d1529",
   "metadata": {},
   "source": [
    "### Exercise – username"
   ]
  },
  {
   "cell_type": "code",
   "execution_count": 61,
   "id": "23b7f4cc",
   "metadata": {},
   "outputs": [
    {
     "name": "stdout",
     "output_type": "stream",
     "text": [
      "Warning: username must be a string\n",
      "Valid\n",
      "Invalid\n",
      "Invalid\n",
      "Invalid\n",
      "Invalid\n",
      "Valid\n"
     ]
    }
   ],
   "source": [
    "import re\n",
    "def name_check(name):\n",
    "    if type(name) != str:\n",
    "        print(\"Warning: username must be a string\")\n",
    "        return\n",
    "    if re.search(\"^[a-zA-Z][\\w-]{5,17}$\", name):\n",
    "        print(\"Valid\")\n",
    "    else:\n",
    "        print(\"Invalid\")\n",
    "\n",
    "name_check(131)\n",
    "name_check(\"python\")\n",
    "name_check(\"msba\")\n",
    "name_check(\"_username\")\n",
    "name_check(\"666fighting\")\n",
    "name_check(\"we-are-champion!\")\n",
    "name_check(\"we-are-champion\")"
   ]
  },
  {
   "cell_type": "markdown",
   "id": "150e18dd",
   "metadata": {},
   "source": [
    "### Exercise – variable name "
   ]
  },
  {
   "cell_type": "code",
   "execution_count": 72,
   "id": "0b29b71c",
   "metadata": {},
   "outputs": [
    {
     "name": "stdout",
     "output_type": "stream",
     "text": [
      "The name is invalid.\n",
      "The name is valid.\n",
      "The name is invalid.\n",
      "The name is invalid.\n",
      "The name is valid.\n",
      "The name is a reserved keyword. It cannot be a variable name.\n",
      "The name is invalid.\n",
      "Warning: username must be a string\n",
      "Warning: username must be a string\n"
     ]
    }
   ],
   "source": [
    "import re\n",
    "import keyword\n",
    "\n",
    "def VerifyName(name):\n",
    "    if type(name) != str:\n",
    "        print(\"Warning: username must be a string\")\n",
    "        return\n",
    "    if keyword.iskeyword(name):\n",
    "        print(\"The name is a reserved keyword. It cannot be a variable name.\")\n",
    "        return\n",
    "    if re.search(\"^[a-zA-z_]\\w*$\",name):\n",
    "        print('The name is valid.')\n",
    "    else: print('The name is invalid.')\n",
    "        \n",
    "VerifyName('99MyStr') \n",
    "VerifyName('_')\n",
    "VerifyName('My  Str') \n",
    "VerifyName('MyStr!!!') \n",
    "VerifyName('My_Str5') \n",
    "VerifyName('None')\n",
    "VerifyName('-999')\n",
    "VerifyName([1,2,3])\n",
    "VerifyName(None) "
   ]
  },
  {
   "cell_type": "markdown",
   "id": "35a04802",
   "metadata": {},
   "source": [
    "### Exercise – password generator"
   ]
  },
  {
   "cell_type": "code",
   "execution_count": 116,
   "id": "9d9f642f",
   "metadata": {},
   "outputs": [
    {
     "name": "stdout",
     "output_type": "stream",
     "text": [
      "WARNING: please enter an integer number between 8 and 16.\n",
      "2jqTO$uo\n",
      "WARNING: please enter an integer number between 8 and 16.\n",
      "1arU!0%4w@\n",
      "3lFD$a9rZ./*C\n",
      "WARNING: please enter an integer number between 8 and 16.\n"
     ]
    }
   ],
   "source": [
    "import re\n",
    "import string\n",
    "import random\n",
    "\n",
    "def password_gen(num):\n",
    "    if type(num)!=int:\n",
    "        print('WARNING: please enter an integer number between 8 and 16.')\n",
    "        return\n",
    "    if not 8<=num<=16:\n",
    "        print('WARNING: please enter an integer number between 8 and 16.')\n",
    "        return\n",
    "    temp=[*(string.ascii_letters+string.digits+string.punctuation)]\n",
    "    password=\"\"\n",
    "    while not re.search(\"^[0-9]+[a-z]+[A-Z]+[_$!?]+.*$\",password):\n",
    "        password=\"\".join(random.choices(temp,k=num))\n",
    "    print(password)\n",
    "    return\n",
    "\n",
    "password_gen('8')\n",
    "password_gen(8)\n",
    "password_gen(9.6)\n",
    "password_gen(10)\n",
    "password_gen(13)\n",
    "password_gen(20)"
   ]
  },
  {
   "cell_type": "markdown",
   "id": "d8b1e907",
   "metadata": {},
   "source": [
    "### Exercise – movies links "
   ]
  },
  {
   "cell_type": "code",
   "execution_count": 144,
   "id": "711b6ba1",
   "metadata": {},
   "outputs": [
    {
     "name": "stdout",
     "output_type": "stream",
     "text": [
      "250\n",
      "['https://www.imdb.com/title/tt0111161/', 'https://www.imdb.com/title/tt0068646/', 'https://www.imdb.com/title/tt0468569/', 'https://www.imdb.com/title/tt0071562/', 'https://www.imdb.com/title/tt0050083/']\n"
     ]
    }
   ],
   "source": [
    "links=[]\n",
    "with open('../data_in/imdb.txt') as file:\n",
    "    for line in file:\n",
    "        x=re.findall('^<a href=\"(/title/[a-z0-9]+/)',line)\n",
    "        if len(x)>0:\n",
    "            links.append('https://www.imdb.com'+x[0])\n",
    "print(len(links))\n",
    "print(links[:5])\n",
    "\n",
    "with open('../data_out/movie_links.txt', \"w\", encoding='utf-8') as outfile:\n",
    "    for i in links:\n",
    "        outfile.write(i)\n",
    "        outfile.write(\"\\n\")"
   ]
  },
  {
   "cell_type": "code",
   "execution_count": null,
   "id": "8b2c7333",
   "metadata": {},
   "outputs": [],
   "source": []
  }
 ],
 "metadata": {
  "kernelspec": {
   "display_name": "Python 3 (ipykernel)",
   "language": "python",
   "name": "python3"
  },
  "language_info": {
   "codemirror_mode": {
    "name": "ipython",
    "version": 3
   },
   "file_extension": ".py",
   "mimetype": "text/x-python",
   "name": "python",
   "nbconvert_exporter": "python",
   "pygments_lexer": "ipython3",
   "version": "3.11.4"
  }
 },
 "nbformat": 4,
 "nbformat_minor": 5
}
