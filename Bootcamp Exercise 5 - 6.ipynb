{
 "cells": [
  {
   "cell_type": "markdown",
   "id": "d6b36cba",
   "metadata": {},
   "source": [
    "### Exercise – extract a number"
   ]
  },
  {
   "cell_type": "code",
   "execution_count": 7,
   "id": "ead3d106",
   "metadata": {},
   "outputs": [
    {
     "name": "stdout",
     "output_type": "stream",
     "text": [
      "Extract number: GDP per capita in 2022 is $32,047.\n",
      "2022: 32047\n"
     ]
    }
   ],
   "source": [
    "string=input(\"Extract number: \")\n",
    "x=[*string]\n",
    "y=[]\n",
    "for i in x:\n",
    "    if i.isdigit():\n",
    "        y.append(i)\n",
    "y.insert(4, \":\")\n",
    "y.insert(5, \" \")\n",
    "print(*y, sep=\"\")"
   ]
  },
  {
   "cell_type": "markdown",
   "id": "7035321e",
   "metadata": {},
   "source": [
    "### Exercies - swap first and last characters"
   ]
  },
  {
   "cell_type": "code",
   "execution_count": 33,
   "id": "ceae371e",
   "metadata": {},
   "outputs": [
    {
     "name": "stdout",
     "output_type": "stream",
     "text": [
      "Swap first and last char of this: india\n",
      "andii\n"
     ]
    }
   ],
   "source": [
    "string=input(\"Swap first and last char of this: \")\n",
    "x=[*string]\n",
    "x[0], x[-1]=x[-1], x[0]\n",
    "\n",
    "'''May use this instead>>>\n",
    "x.insert(0,x[-1])\n",
    "x.append(x[1])\n",
    "x.pop(1)\n",
    "x.pop(-2)\n",
    "'''\n",
    "print(*x, sep=\"\")"
   ]
  },
  {
   "cell_type": "markdown",
   "id": "f671577f",
   "metadata": {},
   "source": [
    "### Exercies - reverse a word"
   ]
  },
  {
   "cell_type": "code",
   "execution_count": 14,
   "id": "0a8e44af",
   "metadata": {},
   "outputs": [
    {
     "name": "stdout",
     "output_type": "stream",
     "text": [
      "Reverse this word: ou12go2ub\n",
      "bu2og21uo\n"
     ]
    }
   ],
   "source": [
    "string=input(\"Reverse this word: \")\n",
    "x=[*string]\n",
    "y=[]\n",
    "for i in x:\n",
    "    y.insert(0,i)\n",
    "print(*y, sep=\"\")\n"
   ]
  },
  {
   "cell_type": "markdown",
   "id": "571d5dd0",
   "metadata": {},
   "source": [
    "### Exercise – sum of cubes (use strings)"
   ]
  },
  {
   "cell_type": "code",
   "execution_count": 8,
   "id": "5d361e97",
   "metadata": {},
   "outputs": [
    {
     "name": "stdout",
     "output_type": "stream",
     "text": [
      "Lower:1\n",
      "Upper:10000\n",
      "Valid numbers:\n",
      "1 153 370 371 407\n"
     ]
    }
   ],
   "source": [
    "lower = int(input(\"Lower:\"))\n",
    "upper = int(input(\"Upper:\"))\n",
    "x=[]\n",
    "\n",
    "\n",
    "for i in range(lower, upper+1):\n",
    "    y=[int(k)for k in str(i)]\n",
    "    z=0\n",
    "    for j in y:\n",
    "        z+= int(j)**3\n",
    "    if i==z:\n",
    "        x.append(i)\n",
    "print(\"Valid numbers:\")\n",
    "print(*x, sep=\" \")"
   ]
  },
  {
   "cell_type": "markdown",
   "id": "4f86c57b",
   "metadata": {},
   "source": [
    "### Exercise – valid substrings"
   ]
  },
  {
   "cell_type": "code",
   "execution_count": 66,
   "id": "d410c89d",
   "metadata": {},
   "outputs": [
    {
     "name": "stdout",
     "output_type": "stream",
     "text": [
      "Find substrings: PresenTation\n",
      "The string 'PresenTation' has 3 valid substring(s):\n",
      "ese nTation Tat\n"
     ]
    }
   ],
   "source": [
    "string=input(\"Find substrings: \")\n",
    "if not string.isalpha():\n",
    "    print(\"Please make sure the string includes only alphabetic letters.\")\n",
    "\n",
    "x=[*string.lower()]\n",
    "substring=[]\n",
    "for i in range(0, len(x)):\n",
    "    for j in range(i+1, len(x)):\n",
    "        if x[i]==x[j]:\n",
    "            substring.append(string[i:j+1])\n",
    "            \n",
    "print(f\"The string '{string}' has {len(substring)} valid substring(s):\")\n",
    "print(*substring, sep=\" \")                "
   ]
  },
  {
   "cell_type": "markdown",
   "id": "b058fe21",
   "metadata": {},
   "source": [
    "### Exercise – rotate a letter"
   ]
  },
  {
   "cell_type": "code",
   "execution_count": 89,
   "id": "3320ae42",
   "metadata": {},
   "outputs": [
    {
     "name": "stdout",
     "output_type": "stream",
     "text": [
      "Rotate this letter: Y\n",
      "Rotate amount: 31\n",
      "D\n"
     ]
    }
   ],
   "source": [
    "x=list(range(ord(\"a\"),ord(\"z\")+1))\n",
    "x+=x\n",
    "y=list(range(ord(\"A\"),ord(\"Z\")+1))\n",
    "y+=y\n",
    "\n",
    "def rotate_letter(i:str, j:int):\n",
    "    for k in x:\n",
    "        if ord(i)==k: return chr(x[x.index(k)+j]) \n",
    "    for k in y:\n",
    "        if ord(i)==k: return chr(y[y.index(k)+j]) \n",
    "\n",
    "letter=input(\"Rotate this letter: \")\n",
    "num=int(input(\"Rotate amount: \"))\n",
    "while num>26: \n",
    "        num-=26      \n",
    "print(rotate_letter(letter, num))"
   ]
  },
  {
   "cell_type": "markdown",
   "id": "fcf557ad",
   "metadata": {},
   "source": [
    "### Exercise – print a letter pattern"
   ]
  },
  {
   "cell_type": "code",
   "execution_count": 107,
   "id": "eea4307d",
   "metadata": {},
   "outputs": [
    {
     "name": "stdout",
     "output_type": "stream",
     "text": [
      "Tri-letters: 8\n",
      "A B C D E F G H \n",
      " A B C D E F G \n",
      "  A B C D E F \n",
      "   A B C D E \n",
      "    A B C D \n",
      "     A B C \n",
      "      A B \n",
      "       A \n"
     ]
    }
   ],
   "source": [
    "tri=int(input(\"Tri-letters: \"))\n",
    "k=0\n",
    "for i in range(tri, 0, -1):\n",
    "    for j in range(0, k):\n",
    "        print(\" \", end=\"\")\n",
    "    k+=1\n",
    "    for j in range(0, i):\n",
    "        print(chr(ord(\"A\")+j), end=\" \")\n",
    "    print()"
   ]
  },
  {
   "cell_type": "markdown",
   "id": "f14f478b",
   "metadata": {},
   "source": [
    "## 6. Lists & Dictionaries"
   ]
  },
  {
   "cell_type": "markdown",
   "id": "7b225b2b",
   "metadata": {},
   "source": [
    "### Exercise – create a dictionary"
   ]
  },
  {
   "cell_type": "code",
   "execution_count": 111,
   "id": "d76b93d5",
   "metadata": {},
   "outputs": [
    {
     "name": "stdout",
     "output_type": "stream",
     "text": [
      "Create dictionary:9\n",
      "{1: 1, 2: 4, 3: 9, 4: 16, 5: 25, 6: 36, 7: 49, 8: 64, 9: 81}\n"
     ]
    }
   ],
   "source": [
    "num=int(input(\"Create dictionary:\"))\n",
    "x=list(range(1, num+1))\n",
    "y={}\n",
    "for i in x:\n",
    "    y[i]=i**2\n",
    "print(y)"
   ]
  },
  {
   "cell_type": "markdown",
   "id": "113d3922",
   "metadata": {},
   "source": [
    "### Exercise – long words"
   ]
  },
  {
   "cell_type": "code",
   "execution_count": 116,
   "id": "2b43fc0f",
   "metadata": {},
   "outputs": [
    {
     "name": "stdout",
     "output_type": "stream",
     "text": [
      "A sentence: Python is so much fun to learn\n",
      "Longer than: 4\n",
      "['Python', 'learn']\n"
     ]
    }
   ],
   "source": [
    "x=input(\"A sentence: \").split()\n",
    "k = int(input(\"Longer than: \"))\n",
    "j=[]\n",
    "for i in x:\n",
    "    if len(i)>k:\n",
    "        j.append(i)\n",
    "print(j)"
   ]
  },
  {
   "cell_type": "markdown",
   "id": "be55f09e",
   "metadata": {},
   "source": [
    "### Exercise – smallest number"
   ]
  },
  {
   "cell_type": "code",
   "execution_count": 11,
   "id": "47fd26fe",
   "metadata": {},
   "outputs": [
    {
     "name": "stdout",
     "output_type": "stream",
     "text": [
      "3\n",
      "-43\n"
     ]
    }
   ],
   "source": [
    "def find_smallest(x):\n",
    "    return min(x)\n",
    "    \n",
    "print(find_smallest([9, 41, 12, 3, 74, 15]))\n",
    "print(find_smallest((1, 0, -43, 2.4)))"
   ]
  },
  {
   "cell_type": "markdown",
   "id": "6da7aec7",
   "metadata": {},
   "source": [
    "### Exercise – sort word by length"
   ]
  },
  {
   "cell_type": "code",
   "execution_count": 42,
   "id": "bb61abda",
   "metadata": {},
   "outputs": [
    {
     "name": "stdout",
     "output_type": "stream",
     "text": [
      "Enter a text: The python language is so much fun to learn.\n",
      "(8, language)\n",
      "(6, python)\n",
      "(6, learn.)\n",
      "(4, much)\n",
      "(3, The)\n",
      "(3, fun)\n",
      "(2, is)\n",
      "(2, so)\n",
      "(2, to)\n"
     ]
    }
   ],
   "source": [
    "txt=input(\"Enter a text: \")\n",
    "x=txt.split()\n",
    "dist={}\n",
    "for i in x:\n",
    "    dist[i]=len(i)\n",
    "result=list(dict(sorted(dist.items(), key=lambda item: item[1], reverse=True)).items())\n",
    "for i in result:\n",
    "    print(f\"({i[1]}, {i[0]})\")\n"
   ]
  },
  {
   "cell_type": "markdown",
   "id": "5acdb7ab",
   "metadata": {},
   "source": [
    "### Exercise – verify ISBN-10"
   ]
  },
  {
   "cell_type": "code",
   "execution_count": 1,
   "id": "6fe50950",
   "metadata": {},
   "outputs": [
    {
     "name": "stdout",
     "output_type": "stream",
     "text": [
      "ISBN no: 3-598-21507-X\n",
      "Valid\n"
     ]
    }
   ],
   "source": [
    "x=[*input(\"ISBN no: \").replace(\"-\", \"\")]\n",
    "if x[-1]==\"X\":\n",
    "    x[-1]=10\n",
    "\n",
    "y=0\n",
    "for i in range(10):\n",
    "    y+=int(x[i])*(10-i)\n",
    "if y%11==0:\n",
    "    print(\"Valid\")\n",
    "else: print(\"Invalid\")"
   ]
  },
  {
   "cell_type": "markdown",
   "id": "36955c76",
   "metadata": {},
   "source": [
    "### Exercise – distinct substring"
   ]
  },
  {
   "cell_type": "code",
   "execution_count": 30,
   "id": "5a29f75d",
   "metadata": {},
   "outputs": [
    {
     "name": "stdout",
     "output_type": "stream",
     "text": [
      "Find Substring: ABCDABCDABCD\n",
      "Substring length: 5\n",
      "There are 4 distinct substrings in ABCDABCDABCD. They are:\n",
      "ABCDA BCDAB CDABC DABCD\n"
     ]
    }
   ],
   "source": [
    "text=input(\"Find Substring: \").upper()\n",
    "k=int(input(\"Substring length: \"))\n",
    "def DistSub(text, k):\n",
    "    x, y=[*text], set()\n",
    "    match k:\n",
    "        case _ if k>len(x):\n",
    "            print(\"There is no such substring.\") \n",
    "            return\n",
    "        case _ if k==len(x):\n",
    "            print(f\"There is only one distinct substring in {text}, which is itself.\")\n",
    "        case _ if k<len(x):\n",
    "            for i in range(0, len(x)-k+1):\n",
    "                y.add(\"\".join(x[i:i+k]))\n",
    "            print(f\"There are {len(y)} distinct substrings in {text}. They are:\")\n",
    "            print(*sorted(y))\n",
    "DistSub(text, k)"
   ]
  },
  {
   "cell_type": "markdown",
   "id": "6c5a6e2c",
   "metadata": {},
   "source": [
    "### Exercise – sort letters in a sequence"
   ]
  },
  {
   "cell_type": "code",
   "execution_count": 55,
   "id": "d989e1f6",
   "metadata": {},
   "outputs": [
    {
     "name": "stdout",
     "output_type": "stream",
     "text": [
      "Sort this string: bzadkoe\n",
      "['a', 'b', 'd', 'e', 'k', 'o', 'z']\n"
     ]
    }
   ],
   "source": [
    "text=[*input(\"Sort this string: \").lower()]\n",
    "            \n",
    "def sorting(seq):\n",
    "    for i in range(0, len(text)-1):\n",
    "        for j in range(i+1, len(text)):\n",
    "            if ord(text[j])<ord(text[i]):\n",
    "                text[i], text[j]=text[j], text[i]\n",
    "    print(text)\n",
    "    return\n",
    "\n",
    "sorting(text)"
   ]
  },
  {
   "cell_type": "code",
   "execution_count": null,
   "id": "d7f206f1",
   "metadata": {},
   "outputs": [],
   "source": []
  },
  {
   "cell_type": "code",
   "execution_count": null,
   "id": "f15192e5",
   "metadata": {},
   "outputs": [],
   "source": []
  }
 ],
 "metadata": {
  "kernelspec": {
   "display_name": "Python 3 (ipykernel)",
   "language": "python",
   "name": "python3"
  },
  "language_info": {
   "codemirror_mode": {
    "name": "ipython",
    "version": 3
   },
   "file_extension": ".py",
   "mimetype": "text/x-python",
   "name": "python",
   "nbconvert_exporter": "python",
   "pygments_lexer": "ipython3",
   "version": "3.11.4"
  }
 },
 "nbformat": 4,
 "nbformat_minor": 5
}
