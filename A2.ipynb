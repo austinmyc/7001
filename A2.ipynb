{
 "cells": [
  {
   "cell_type": "markdown",
   "id": "51edc954",
   "metadata": {},
   "source": [
    "## Q1 output"
   ]
  },
  {
   "cell_type": "code",
   "execution_count": 48,
   "id": "0de88204",
   "metadata": {},
   "outputs": [],
   "source": [
    "with open(\"./pi_million_digits.txt\",'r') as file:\n",
    "    text=file.read().replace(\" \",\"\").replace(\"\\n\",\"\")[2:]\n",
    "\n",
    "sixdigit=[]\n",
    "for i in range(len(text)-5):\n",
    "    digit=text[i:i+6]\n",
    "    temp=\"\".join(map(str,range(int(digit[0]),int(digit[0])+6)))\n",
    "    if int(digit[0])>4:\n",
    "        templist=[*temp]\n",
    "        for m in range(int(digit[0])-4):\n",
    "            templist.pop(int(digit[0])-2*m)\n",
    "        temp=\"\".join(templist)\n",
    "    if temp==digit:\n",
    "        sixdigit.append(digit)\n",
    "        "
   ]
  },
  {
   "cell_type": "code",
   "execution_count": 49,
   "id": "b01d1f90",
   "metadata": {},
   "outputs": [
    {
     "name": "stdout",
     "output_type": "stream",
     "text": [
      "10\n"
     ]
    }
   ],
   "source": [
    "print(len(sixdigit))"
   ]
  },
  {
   "cell_type": "code",
   "execution_count": 50,
   "id": "91819641",
   "metadata": {},
   "outputs": [
    {
     "name": "stdout",
     "output_type": "stream",
     "text": [
      "['678901', '234567', '456789', '012345', '890123', '012345', '567890', '234567', '345678', '456789']\n"
     ]
    }
   ],
   "source": [
    "print(sixdigit)"
   ]
  },
  {
   "cell_type": "markdown",
   "id": "44c0c125",
   "metadata": {},
   "source": [
    "## Q2 output"
   ]
  },
  {
   "cell_type": "code",
   "execution_count": 91,
   "id": "e41e5445",
   "metadata": {},
   "outputs": [],
   "source": [
    "import json\n",
    "import re\n",
    "with open('./hk_tracks.json', encoding='utf-8') as file2:\n",
    "    item=json.load(file2)\n",
    "\n",
    "tracks=[]\n",
    "for i in   item:\n",
    "    addtrack=[None]*8\n",
    "    addtrack[0]=i['Title'].replace(\"\\n\",\"\")\n",
    "    addtrack[1], addtrack[2]= list(re.findall(\"^(.+), (.+)\",i['Region'])[0])[:2]\n",
    "    addtrack[3], addtrack[4]= map(float,list(re.findall(\".+\\(([\\d.]+),([\\d.]+)\\)\",i['Coordinates'])[0])[:2])\n",
    "    addtrack[5], addtrack[6], addtrack[7]=list(re.findall(\".+ (\\d+).+ (\\d+)-(\\d+).+\",i['Information'])[0])[:3]\n",
    "    tracks.append(addtrack)\n"
   ]
  },
  {
   "cell_type": "code",
   "execution_count": 92,
   "id": "fdb2cf29",
   "metadata": {},
   "outputs": [
    {
     "name": "stdout",
     "output_type": "stream",
     "text": [
      "34\n"
     ]
    }
   ],
   "source": [
    "print(len(tracks))"
   ]
  },
  {
   "cell_type": "code",
   "execution_count": 93,
   "id": "6a404150",
   "metadata": {},
   "outputs": [
    {
     "name": "stdout",
     "output_type": "stream",
     "text": [
      "[['Ap Lei Chau Wind Tower Park', 'Southern', 'Hong Kong Island', 22.24472222, 114.1525, '1200', '50', '60'], ['Sun Yat Sen Memorial Park to Central Pier No.7', 'Central and Western', 'Hong Kong Island', 22.290402, 114.143783, '2430', '95', '115'], ['Hong Kong Park', 'Central and Western', 'Hong Kong Island', 22.27714, 114.163813, '1200', '45', '50'], ['Wan Chai Park', 'Wan Chai', 'Hong Kong Island', 22.275472, 114.176008, '321', '10', '15'], ['Bowen Road', 'Wan Chai', 'Hong Kong Island', 22.272853, 114.166083, '3000', '155', '185']]\n"
     ]
    }
   ],
   "source": [
    "print(tracks[:5])"
   ]
  },
  {
   "cell_type": "code",
   "execution_count": 94,
   "id": "f33914e6",
   "metadata": {},
   "outputs": [
    {
     "name": "stdout",
     "output_type": "stream",
     "text": [
      "[[['Tsuen Wan Park', 'Tsuen Wan', 'New Territories', 22.364895, 114.112451, '2100', '85', '100'], ['Tsing Yi Park', 'Kwai Tsing', 'New Territories', 22.356678, 114.106163, '1200', '50', '60'], ['Tsing Yi Promenade', 'Kwai Tsing', 'New Territories', 22.363127, 114.105045, '1250', '50', '60'], ['Cheung Chau Sports Ground', 'Islands', 'New Territories', 22.206486, 114.032803, '250', '10', '15'], ['Tung Chung North Park and Man Tung Road Park', 'Islands', 'New Territories', 22.292443, 113.950924, '1200', '50', '60']]]\n"
     ]
    }
   ],
   "source": [
    "print([tracks[-5:]])"
   ]
  },
  {
   "cell_type": "markdown",
   "id": "a6cc33e5",
   "metadata": {},
   "source": [
    "## Q3 output"
   ]
  },
  {
   "cell_type": "code",
   "execution_count": 197,
   "id": "d48ada1d",
   "metadata": {},
   "outputs": [],
   "source": [
    "import json\n",
    "import re\n",
    "\n",
    "with open('./stop_words.txt', encoding='utf-8') as stopword:\n",
    "    stopwords=stopword.read().upper()\n",
    "    \n",
    "with open('./policy.txt', encoding='utf-8') as file3:\n",
    "    policy=file3.read().replace(\"\\n\",\" \").replace(\"\\xa0\",\" \").replace(\"’s\",\"\").replace(\"-\",\" \").replace(\"_\",\" \").upper()\n",
    "\n",
    "freq={}\n",
    "for word in re.sub(r\"[^A-Z ]\",\"\",policy).split():\n",
    "    if word not in stopwords:\n",
    "        freq[word]=freq.get(word,0)+1\n",
    "top20words=dict(sorted(freq.items(), key=lambda x:(x[1],x[0]), reverse=True)[:20])"
   ]
  },
  {
   "cell_type": "code",
   "execution_count": 198,
   "id": "45e3432b",
   "metadata": {},
   "outputs": [
    {
     "name": "stdout",
     "output_type": "stream",
     "text": [
      "20\n"
     ]
    }
   ],
   "source": [
    "print(len(top20words))"
   ]
  },
  {
   "cell_type": "code",
   "execution_count": 199,
   "id": "5f2beb50",
   "metadata": {},
   "outputs": [
    {
     "name": "stdout",
     "output_type": "stream",
     "text": [
      "{'GOVERNMENT': 60, 'KONG': 51, 'HONG': 51, 'HOUSING': 35, 'POLICY': 32, 'DEVELOPMENT': 27, 'PUBLIC': 24, 'YEAR': 23, 'NEW': 23, 'LAND': 22, 'ADDRESS': 22, 'PEOPLE': 21, 'TERM': 17, 'SUPPORT': 14, 'SCHEME': 14, 'CURRENT': 14, 'RESOURCES': 13, 'EXECUTIVE': 13, 'ECONOMIC': 13, 'CHIEF': 13}\n"
     ]
    }
   ],
   "source": [
    "print(top20words)"
   ]
  },
  {
   "cell_type": "markdown",
   "id": "b775cf84",
   "metadata": {},
   "source": [
    "## Q4 output"
   ]
  },
  {
   "cell_type": "code",
   "execution_count": 201,
   "id": "130c4c06",
   "metadata": {},
   "outputs": [],
   "source": [
    "import re\n",
    "import string\n",
    "import random\n",
    "\n",
    "def password_gen(num):\n",
    "    if type(num)!=int:\n",
    "        print('WARNING: please enter an integer number between 8 and 16.')\n",
    "        return\n",
    "    if not 8<=num<=16:\n",
    "        print('WARNING: please enter an integer number between 8 and 16.')\n",
    "        return\n",
    "    temp=[*(string.ascii_letters+string.digits+string.punctuation)]\n",
    "    password=\"\"\n",
    "    while not re.search(\"^(?=.*[a-z])(?=.*[A-Z])(?=.*\\d)(?=.*[_$!?])[\\w$!?]{8,16}$\",password):\n",
    "        password=\"\".join(random.choices(temp,k=num))\n",
    "    print(password)\n",
    "    return\n"
   ]
  },
  {
   "cell_type": "code",
   "execution_count": 202,
   "id": "4e40fc50",
   "metadata": {},
   "outputs": [
    {
     "name": "stdout",
     "output_type": "stream",
     "text": [
      "WARNING: please enter an integer number between 8 and 16.\n"
     ]
    }
   ],
   "source": [
    "password_gen('8')"
   ]
  },
  {
   "cell_type": "code",
   "execution_count": 203,
   "id": "76f5b004",
   "metadata": {},
   "outputs": [
    {
     "name": "stdout",
     "output_type": "stream",
     "text": [
      "Ho_9kqTf\n"
     ]
    }
   ],
   "source": [
    "password_gen(8)"
   ]
  },
  {
   "cell_type": "code",
   "execution_count": 204,
   "id": "15888f19",
   "metadata": {},
   "outputs": [
    {
     "name": "stdout",
     "output_type": "stream",
     "text": [
      "WARNING: please enter an integer number between 8 and 16.\n"
     ]
    }
   ],
   "source": [
    "password_gen(9.6)"
   ]
  },
  {
   "cell_type": "code",
   "execution_count": 205,
   "id": "c613a7bb",
   "metadata": {},
   "outputs": [
    {
     "name": "stdout",
     "output_type": "stream",
     "text": [
      "dmGv6$r3jt\n"
     ]
    }
   ],
   "source": [
    "password_gen(10)"
   ]
  },
  {
   "cell_type": "code",
   "execution_count": 206,
   "id": "ffaf70df",
   "metadata": {},
   "outputs": [
    {
     "name": "stdout",
     "output_type": "stream",
     "text": [
      "$CQnFQ439ctCQ\n"
     ]
    }
   ],
   "source": [
    "password_gen(13)"
   ]
  },
  {
   "cell_type": "code",
   "execution_count": 207,
   "id": "730e1167",
   "metadata": {},
   "outputs": [
    {
     "name": "stdout",
     "output_type": "stream",
     "text": [
      "WARNING: please enter an integer number between 8 and 16.\n"
     ]
    }
   ],
   "source": [
    "password_gen(20)"
   ]
  },
  {
   "cell_type": "code",
   "execution_count": null,
   "id": "f62a8ee3",
   "metadata": {},
   "outputs": [],
   "source": []
  }
 ],
 "metadata": {
  "kernelspec": {
   "display_name": "Python 3 (ipykernel)",
   "language": "python",
   "name": "python3"
  },
  "language_info": {
   "codemirror_mode": {
    "name": "ipython",
    "version": 3
   },
   "file_extension": ".py",
   "mimetype": "text/x-python",
   "name": "python",
   "nbconvert_exporter": "python",
   "pygments_lexer": "ipython3",
   "version": "3.11.4"
  }
 },
 "nbformat": 4,
 "nbformat_minor": 5
}
