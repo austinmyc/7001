{
 "cells": [
  {
   "cell_type": "markdown",
   "id": "ea47162b",
   "metadata": {},
   "source": [
    "## 1 Basics"
   ]
  },
  {
   "cell_type": "markdown",
   "id": "334ce133",
   "metadata": {},
   "source": [
    "### Exercise – enter your names"
   ]
  },
  {
   "cell_type": "code",
   "execution_count": 50,
   "id": "f2ed1bcd",
   "metadata": {},
   "outputs": [
    {
     "name": "stdout",
     "output_type": "stream",
     "text": [
      "Enter your first name:Chao\n",
      "Enter your last name:Ding\n",
      "Hello, Ding Chao.\n"
     ]
    }
   ],
   "source": [
    "first=input(\"Enter your first name:\")\n",
    "last=input(\"Enter your last name:\")\n",
    "print(f\"Hello, {last} {first}.\")"
   ]
  },
  {
   "cell_type": "markdown",
   "id": "146d9465",
   "metadata": {},
   "source": [
    "### Exercise – temperature conversion"
   ]
  },
  {
   "cell_type": "code",
   "execution_count": 51,
   "id": "8ebcd8e8",
   "metadata": {},
   "outputs": [
    {
     "name": "stdout",
     "output_type": "stream",
     "text": [
      "Enter a Celsius degree: 24\n",
      "24.0 Celsius degrees converted to Fahrenheit is 75.2.\n"
     ]
    }
   ],
   "source": [
    "x=float(input(\"Enter a Celsius degree: \"))\n",
    "print(f\"{x} Celsius degrees converted to Fahrenheit is {((x*9/5)+32)}.\")"
   ]
  },
  {
   "cell_type": "markdown",
   "id": "f5182301",
   "metadata": {},
   "source": [
    "### Exercise – even or odd"
   ]
  },
  {
   "cell_type": "code",
   "execution_count": 3,
   "id": "3f84c012",
   "metadata": {},
   "outputs": [
    {
     "name": "stdout",
     "output_type": "stream",
     "text": [
      "Enter and interger: 5\n",
      "This is an odd number.\n"
     ]
    }
   ],
   "source": [
    "x=int(input(\"Enter and interger: \"))\n",
    "if x%2 !=0:\n",
    "    print(\"This is an odd number.\")\n",
    "else: print(\"This is an even number.\")"
   ]
  },
  {
   "cell_type": "markdown",
   "id": "2bf4cdad",
   "metadata": {},
   "source": [
    "### Exercise – voting age"
   ]
  },
  {
   "cell_type": "code",
   "execution_count": 7,
   "id": "e1157e70",
   "metadata": {},
   "outputs": [
    {
     "name": "stdout",
     "output_type": "stream",
     "text": [
      "Enter your name: Chao\n",
      "Enter your age: 17\n",
      "Chao, you cannot vote.\n"
     ]
    }
   ],
   "source": [
    "name=input(\"Enter your name: \")\n",
    "age=int(input(\"Enter your age: \"))\n",
    "x=\"\"\n",
    "if age<18:\n",
    "    x=\"not\"\n",
    "print(f\"{name}, you can{x} vote.\")"
   ]
  },
  {
   "cell_type": "markdown",
   "id": "2fad272b",
   "metadata": {},
   "source": [
    "### Exercise – triangle type"
   ]
  },
  {
   "cell_type": "code",
   "execution_count": 39,
   "id": "75dfca7c",
   "metadata": {},
   "outputs": [
    {
     "name": "stdout",
     "output_type": "stream",
     "text": [
      "x: 1\n",
      "y: 4\n",
      "z: 2\n",
      "scalene\n"
     ]
    }
   ],
   "source": [
    "x=int(input(\"x: \"))\n",
    "y=int(input(\"y: \"))\n",
    "z=int(input(\"z: \"))\n",
    "\n",
    "if x==y==z:\n",
    "    print(\"equilateral\")\n",
    "elif x==y or y==z or x==z:\n",
    "    print(\"isosceles\")\n",
    "else: print(\"scalene\")\n",
    "            "
   ]
  },
  {
   "cell_type": "markdown",
   "id": "c3cdfc56",
   "metadata": {},
   "source": [
    "## 2 Functions"
   ]
  },
  {
   "cell_type": "markdown",
   "id": "a7d53e7a",
   "metadata": {},
   "source": [
    "### Exercise – grade conversion"
   ]
  },
  {
   "cell_type": "code",
   "execution_count": 20,
   "id": "aab0124d",
   "metadata": {},
   "outputs": [
    {
     "name": "stdout",
     "output_type": "stream",
     "text": [
      "Score: 101\n",
      "Invalid Score\n"
     ]
    }
   ],
   "source": [
    "def grade(score):\n",
    "    match score:\n",
    "        case _ if score >100 or score<0:\n",
    "            print(\"Invalid Score\")\n",
    "        case _ if score>=90:\n",
    "            print(\"A\")\n",
    "        case _ if score>=80:\n",
    "            print(\"B\")\n",
    "        case _ if score>=70:\n",
    "            print(\"C\")\n",
    "        case _ if score>=60:\n",
    "            print(\"D\")\n",
    "        case _ if score<60:\n",
    "            print(\"F\")\n",
    "            \n",
    "score=float(input(\"Score: \"))\n",
    "grade(score)"
   ]
  },
  {
   "cell_type": "markdown",
   "id": "36c7930b",
   "metadata": {},
   "source": [
    "### Exercise – factorial"
   ]
  },
  {
   "cell_type": "code",
   "execution_count": 6,
   "id": "10a36f87",
   "metadata": {},
   "outputs": [
    {
     "name": "stdout",
     "output_type": "stream",
     "text": [
      "x: 10\n",
      "3628800\n",
      "3628800\n"
     ]
    }
   ],
   "source": [
    "import math\n",
    "def fact(num):\n",
    "    return math.factorial(num)\n",
    "\n",
    "def fact2(num):\n",
    "    if num==0: return 1\n",
    "    return num*fact2(num-1)\n",
    "\n",
    "x=int(input(\"x: \"))\n",
    "print(fact(x))\n",
    "print(fact2(x))\n"
   ]
  },
  {
   "cell_type": "markdown",
   "id": "06ba75dc",
   "metadata": {},
   "source": [
    "### Exercise – max of three"
   ]
  },
  {
   "cell_type": "code",
   "execution_count": 8,
   "id": "58c99b03",
   "metadata": {
    "scrolled": true
   },
   "outputs": [
    {
     "name": "stdout",
     "output_type": "stream",
     "text": [
      "x: 1\n",
      "y: 2\n",
      "z: 3\n",
      "3.0\n"
     ]
    }
   ],
   "source": [
    "x=float(input(\"x: \"))\n",
    "y=float(input(\"y: \"))\n",
    "z=float(input(\"z: \"))\n",
    "\n",
    "'''\n",
    "def compare(x: float, y: float):\n",
    "    if x>y:\n",
    "        return x\n",
    "    else: return y\n",
    "\n",
    "def max_of_three(x: float, y: float, z: float):\n",
    "    return compare(x, compare(y,z))\n",
    "\n",
    "print(max_of_three(x,y,z))\n",
    "'''\n",
    "def mymax(*args):\n",
    "    #if len(args) == 0:\n",
    "     #   raise TypeError\n",
    "    if len(args) == 1:\n",
    "        args = tuple([args[0]])\n",
    "    largest = args[0]\n",
    "    for x in args[1:]:\n",
    "        if x > largest:\n",
    "            largest = x\n",
    "    return largest\n",
    "\n",
    "print(mymax(x, y, z))"
   ]
  },
  {
   "cell_type": "markdown",
   "id": "953d0c94",
   "metadata": {},
   "source": [
    "### Exercise – prime numbers"
   ]
  },
  {
   "cell_type": "code",
   "execution_count": 7,
   "id": "427999ba",
   "metadata": {},
   "outputs": [
    {
     "name": "stdout",
     "output_type": "stream",
     "text": [
      "Lower:100\n",
      "Upper:1000\n",
      "101 103 107 109 113 127 131 137 139 149 151 157 163 167 173 179 181 191 193 197 199 211 223 227 229 233 239 241 251 257 263 269 271 277 281 283 293 307 311 313 317 331 337 347 349 353 359 367 373 379 383 389 397 401 409 419 421 431 433 439 443 449 457 461 463 467 479 487 491 499 503 509 521 523 541 547 557 563 569 571 577 587 593 599 601 607 613 617 619 631 641 643 647 653 659 661 673 677 683 691 701 709 719 727 733 739 743 751 757 761 769 773 787 797 809 811 821 823 827 829 839 853 857 859 863 877 881 883 887 907 911 919 929 937 941 947 953 967 971 977 983 991 997 "
     ]
    }
   ],
   "source": [
    "\n",
    "lower = int(input(\"Lower:\"))\n",
    "upper = int(input(\"Upper:\"))\n",
    "\n",
    "def prime(lower, upper):\n",
    "    for num in range(lower, upper + 1):\n",
    "       if num > 1:\n",
    "           for i in range(2,math.floor(math.sqrt(num)+1)):\n",
    "               if (num % i) == 0:\n",
    "                   break\n",
    "           else:\n",
    "               print(num, end=\" \")\n",
    "\n",
    "prime(lower, upper)"
   ]
  },
  {
   "cell_type": "markdown",
   "id": "d750a74f",
   "metadata": {},
   "source": [
    "### Exercise – leap year"
   ]
  },
  {
   "cell_type": "code",
   "execution_count": 47,
   "id": "a7192206",
   "metadata": {},
   "outputs": [
    {
     "name": "stdout",
     "output_type": "stream",
     "text": [
      "year:9999\n",
      "WARNING: your input is not valid.\n"
     ]
    }
   ],
   "source": [
    "import calendar\n",
    "\n",
    "x=int(input(\"year:\"))\n",
    "\n",
    "if x<=0 or x>=9999:\n",
    "    print(\"WARNING: your input is not valid.\")\n",
    "elif calendar.isleap(x):\n",
    "    print(\"Leap year\")\n",
    "else: print(\"Regular year\")"
   ]
  },
  {
   "cell_type": "code",
   "execution_count": null,
   "id": "7884370b",
   "metadata": {},
   "outputs": [],
   "source": []
  },
  {
   "cell_type": "code",
   "execution_count": null,
   "id": "32d07322",
   "metadata": {},
   "outputs": [],
   "source": []
  }
 ],
 "metadata": {
  "kernelspec": {
   "display_name": "Python 3 (ipykernel)",
   "language": "python",
   "name": "python3"
  },
  "language_info": {
   "codemirror_mode": {
    "name": "ipython",
    "version": 3
   },
   "file_extension": ".py",
   "mimetype": "text/x-python",
   "name": "python",
   "nbconvert_exporter": "python",
   "pygments_lexer": "ipython3",
   "version": "3.11.4"
  }
 },
 "nbformat": 4,
 "nbformat_minor": 5
}
