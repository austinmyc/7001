{
 "cells": [
  {
   "cell_type": "markdown",
   "id": "c9c39560",
   "metadata": {},
   "source": [
    "## 3. Modules"
   ]
  },
  {
   "cell_type": "markdown",
   "id": "cfba4e22",
   "metadata": {},
   "source": [
    "### Exercise – convert float to binary"
   ]
  },
  {
   "cell_type": "code",
   "execution_count": 1,
   "id": "691750e0",
   "metadata": {},
   "outputs": [
    {
     "name": "stdout",
     "output_type": "stream",
     "text": [
      "The original value is:0.679\n",
      "1\n"
     ]
    }
   ],
   "source": [
    "x=float(input(\"The original value is:\"))\n",
    "if x>0.5:\n",
    "    print(1)\n",
    "else: print(0)"
   ]
  },
  {
   "cell_type": "markdown",
   "id": "62766f89",
   "metadata": {},
   "source": [
    "### Exercise – dart game"
   ]
  },
  {
   "cell_type": "code",
   "execution_count": 7,
   "id": "374ac8b9",
   "metadata": {},
   "outputs": [
    {
     "name": "stdout",
     "output_type": "stream",
     "text": [
      "x=0\n",
      "y=0\n",
      "10\n"
     ]
    }
   ],
   "source": [
    "import math\n",
    "x, y=int(input(\"x=\")), int(input(\"y=\"))\n",
    "def score(x,y):\n",
    "    z=math.sqrt(abs(x)**2+abs(y)**2)\n",
    "    match z:\n",
    "        case _ if z<=1:\n",
    "            print(10)\n",
    "            return\n",
    "        case _ if z<=1:\n",
    "            print(10)\n",
    "            return\n",
    "        case _ if z<=5:\n",
    "            print(5)\n",
    "            return\n",
    "        case _ if z<=10:\n",
    "            print(1)\n",
    "            return\n",
    "        case _ if z>10:\n",
    "            print(\"Dart out of board\")\n",
    "            return\n",
    "score(x,y)"
   ]
  },
  {
   "cell_type": "markdown",
   "id": "671734fc",
   "metadata": {},
   "source": [
    "### Exercise – roll two die"
   ]
  },
  {
   "cell_type": "code",
   "execution_count": 14,
   "id": "2d59d64b",
   "metadata": {},
   "outputs": [
    {
     "name": "stdout",
     "output_type": "stream",
     "text": [
      "Value of dice A is: 4\n",
      "Value of dice B is: 5\n",
      "B wins!\n"
     ]
    }
   ],
   "source": [
    "import random\n",
    "dice_a, dice_b=random.randint(1, 6), random.randint(1, 6)\n",
    "print(f\"Value of dice A is: {dice_a}\\nValue of dice B is: {dice_b}\")\n",
    "if dice_a == dice_b: print(\"a draw!\")\n",
    "elif dice_a>dice_b: print(\"A wins!\")\n",
    "else: print(\"B wins!\")\n"
   ]
  },
  {
   "cell_type": "markdown",
   "id": "80037d7a",
   "metadata": {},
   "source": [
    "### Exercise – rock paper scissors"
   ]
  },
  {
   "cell_type": "code",
   "execution_count": 21,
   "id": "6dfd9868",
   "metadata": {},
   "outputs": [
    {
     "name": "stdout",
     "output_type": "stream",
     "text": [
      "Player A chose paper\n",
      "Player B chose rock\n",
      "Paper smashes rock! Player B wins!\n"
     ]
    }
   ],
   "source": [
    "import random\n",
    "result={1: \"rock\", 2:\"paper\", 3:\"scissors\"}\n",
    "a, b=random.randint(1, 3), random.randint(1, 3)\n",
    "print(f\"Player A chose {result[a]}\")\n",
    "print(f\"Player B chose {result[b]}\")\n",
    "if a==b:\n",
    "    print(\"a draw!\")\n",
    "elif a==1 and b==2:\n",
    "    print(\"Paper smashes rock! Player A wins!\")\n",
    "elif a==2 and b==1:\n",
    "    print(\"Paper smashes rock! Player B wins!\")\n",
    "elif a==2 and b==3:\n",
    "    print(\"Scissors smashes paper! Player A wins!\")\n",
    "elif a==3 and b==2:\n",
    "    print(\"Scissors smashes paper! Player B wins!\")\n",
    "elif a==1 and b==3:\n",
    "    print(\"Rock smashes scissors! Player A wins!\")\n",
    "elif a==3 and b==1:\n",
    "    print(\"Rock smashes scissors! Player B wins!\")\n"
   ]
  },
  {
   "cell_type": "markdown",
   "id": "0885d856",
   "metadata": {},
   "source": [
    "## 4. Loops & iterations"
   ]
  },
  {
   "cell_type": "markdown",
   "id": "246e351c",
   "metadata": {},
   "source": [
    "### Exercise – repeated user inputs"
   ]
  },
  {
   "cell_type": "code",
   "execution_count": 42,
   "id": "31f305fc",
   "metadata": {},
   "outputs": [
    {
     "name": "stdout",
     "output_type": "stream",
     "text": [
      "Enter a number: 3\n",
      "Enter a number: 7\n",
      "Enter a number: HKU\n",
      "Invalid input\n",
      "Enter a number: 4\n",
      "Enter a number: done\n",
      "-------------\n",
      "Total: 14\n",
      "Count: 3\n",
      "Average: 4.6667\n"
     ]
    }
   ],
   "source": [
    "numlist=[]\n",
    "while True:\n",
    "    num=input(\"Enter a number: \")\n",
    "    if num==\"done\":\n",
    "        print(f\"-------------\\nTotal: {sum(numlist)}\\nCount: {len(numlist)}\\nAverage: {round(sum(numlist)/len(numlist), 4)}\")\n",
    "        break\n",
    "    try:\n",
    "        numlist.append(int(num))\n",
    "    except:\n",
    "        print(\"Invalid input\")\n"
   ]
  },
  {
   "cell_type": "markdown",
   "id": "d049cf37",
   "metadata": {},
   "source": [
    "### Exercise – print a pattern"
   ]
  },
  {
   "cell_type": "code",
   "execution_count": 24,
   "id": "89b82d4d",
   "metadata": {},
   "outputs": [
    {
     "name": "stdout",
     "output_type": "stream",
     "text": [
      "* \n",
      "* * \n",
      "* * * \n",
      "* * * * \n",
      "* * * * * \n",
      "* * * * \n",
      "* * * \n",
      "* * \n",
      "* \n",
      "\n"
     ]
    }
   ],
   "source": [
    "for i in range(5):\n",
    "    for j in range(i+1):\n",
    "        print(\"*\", end=\" \")\n",
    "    print()\n",
    "    \n",
    "for i in range(5, 0, -1):\n",
    "    for j in range(i-1):\n",
    "        print(\"*\", end=\" \")\n",
    "    print()"
   ]
  },
  {
   "cell_type": "markdown",
   "id": "e2254e83",
   "metadata": {},
   "source": [
    "### Exercise – print hollow pyramid"
   ]
  },
  {
   "cell_type": "code",
   "execution_count": 31,
   "id": "17ca65d6",
   "metadata": {},
   "outputs": [
    {
     "name": "stdout",
     "output_type": "stream",
     "text": [
      "Enter the number of rows: 8\n",
      "       *\n",
      "      * *\n",
      "     *   *\n",
      "    *     *\n",
      "   *       *\n",
      "  *         *\n",
      " *           *\n",
      "*             *\n"
     ]
    }
   ],
   "source": [
    "x=int(input(\"Enter the number of rows: \"))\n",
    "\n",
    "for i in range(x):\n",
    "    for j in range(x-i-1):\n",
    "        print(\" \", end=\"\")\n",
    "    print(\"*\", end=\"\")\n",
    "    if i==0:\n",
    "        print()\n",
    "    else:\n",
    "        for k in range(i*2-1):\n",
    "            print(\" \", end=\"\")\n",
    "        print(\"*\")"
   ]
  },
  {
   "cell_type": "markdown",
   "id": "77f4c3f9",
   "metadata": {},
   "source": [
    "### Exercise – Fibonacci Sequence"
   ]
  },
  {
   "cell_type": "code",
   "execution_count": 62,
   "id": "951d0d82",
   "metadata": {},
   "outputs": [
    {
     "name": "stdout",
     "output_type": "stream",
     "text": [
      "0 1 1 2 3 5 8 13 21 34\n"
     ]
    }
   ],
   "source": [
    "f=[0,1]\n",
    "i=0\n",
    "while (f[i]+f[i+1])<50:\n",
    "    f.append(f[i]+f[i+1])\n",
    "    i+=1\n",
    "print(*f)"
   ]
  },
  {
   "cell_type": "markdown",
   "id": "0cb33122",
   "metadata": {},
   "source": [
    "### Exercise – guess a number"
   ]
  },
  {
   "cell_type": "code",
   "execution_count": 90,
   "id": "93e34e24",
   "metadata": {},
   "outputs": [
    {
     "name": "stdout",
     "output_type": "stream",
     "text": [
      "Take a guess: 5\n",
      "Your guess is smaller than the target.\n",
      "Take a guess: 2\n",
      "Your guess is smaller than the target.\n",
      "Take a guess: 7\n",
      "Your guess is greater than the target.\n",
      "Take a guess: 6\n",
      "Bingo! You found it! It took you 4 guesses.\n"
     ]
    }
   ],
   "source": [
    "import random\n",
    "x=random.randint(1, 10)\n",
    "\n",
    "count=0\n",
    "while True:\n",
    "    \n",
    "    guess=int(input(\"Take a guess: \"))\n",
    "    if guess!=x:\n",
    "        if guess>x:\n",
    "            print(\"Your guess is greater than the target.\")\n",
    "            count+=1\n",
    "        else: \n",
    "            print(\"Your guess is smaller than the target.\")\n",
    "            count+=1\n",
    "    else: \n",
    "        if count!=0:\n",
    "            es=\"es\"\n",
    "        else:\n",
    "            es=\"\"\n",
    "        print(f\"Bingo! You found it! It took you {count+1} guess{es}.\")\n",
    "        break\n",
    "    "
   ]
  },
  {
   "cell_type": "markdown",
   "id": "67bd3c75",
   "metadata": {},
   "source": [
    "## Exercise – sum of cubes"
   ]
  },
  {
   "cell_type": "code",
   "execution_count": 56,
   "id": "87a6b752",
   "metadata": {},
   "outputs": [
    {
     "name": "stdout",
     "output_type": "stream",
     "text": [
      "153 370 371 407 "
     ]
    }
   ],
   "source": [
    "for i in range(100, 1000):\n",
    "    if i ==(i//100)**3+(i//10%10)**3+ (i%10)**3:\n",
    "        print(i, end=\" \")"
   ]
  },
  {
   "cell_type": "code",
   "execution_count": null,
   "id": "c57c8eec",
   "metadata": {},
   "outputs": [],
   "source": []
  }
 ],
 "metadata": {
  "kernelspec": {
   "display_name": "Python 3 (ipykernel)",
   "language": "python",
   "name": "python3"
  },
  "language_info": {
   "codemirror_mode": {
    "name": "ipython",
    "version": 3
   },
   "file_extension": ".py",
   "mimetype": "text/x-python",
   "name": "python",
   "nbconvert_exporter": "python",
   "pygments_lexer": "ipython3",
   "version": "3.11.4"
  }
 },
 "nbformat": 4,
 "nbformat_minor": 5
}
