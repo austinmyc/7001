{
 "cells": [
  {
   "cell_type": "markdown",
   "id": "3962c0a7",
   "metadata": {},
   "source": [
    "## Q1 output"
   ]
  },
  {
   "cell_type": "code",
   "execution_count": 38,
   "id": "e9a08a33",
   "metadata": {},
   "outputs": [],
   "source": [
    "def star(num1,num2):\n",
    "    for i in range(num1):\n",
    "        for j in range(num2):\n",
    "            if (i+j)%2==0:\n",
    "                print(\"*\", end=\"\")\n",
    "            else:\n",
    "                print(\" \", end=\"\")\n",
    "        print(\"\")"
   ]
  },
  {
   "cell_type": "code",
   "execution_count": 45,
   "id": "4117b552",
   "metadata": {},
   "outputs": [
    {
     "name": "stdout",
     "output_type": "stream",
     "text": [
      "* * * *\n",
      " * * * \n",
      "* * * *\n",
      " * * * \n",
      "* * * *\n"
     ]
    }
   ],
   "source": [
    "star(5,7)"
   ]
  },
  {
   "cell_type": "code",
   "execution_count": 46,
   "id": "9ff9acbc",
   "metadata": {},
   "outputs": [
    {
     "name": "stdout",
     "output_type": "stream",
     "text": [
      "* * * * * *\n",
      " * * * * * \n",
      "* * * * * *\n",
      " * * * * * \n",
      "* * * * * *\n",
      " * * * * * \n",
      "* * * * * *\n"
     ]
    }
   ],
   "source": [
    "star(7,11)"
   ]
  },
  {
   "cell_type": "markdown",
   "id": "b7caf26d",
   "metadata": {},
   "source": [
    "## Q2 output"
   ]
  },
  {
   "cell_type": "code",
   "execution_count": 63,
   "id": "8df32bd6",
   "metadata": {},
   "outputs": [],
   "source": [
    "def pattern(start,total):\n",
    "    if (total<=start) or not (1<=start<=9) or not (1<=total<=9):\n",
    "        print(\"***REMINDER: Please make sure the two arguments are between 1 and 9, and that the 2nd argument is greater than the 1st one.***\")\n",
    "        return\n",
    "    for i in range(start):\n",
    "        print(str(start-i)*(start-i), str(total-start+i)*(total-start+i))       "
   ]
  },
  {
   "cell_type": "code",
   "execution_count": 64,
   "id": "a505e0c0",
   "metadata": {},
   "outputs": [
    {
     "name": "stdout",
     "output_type": "stream",
     "text": [
      "***REMINDER: Please make sure the two arguments are between 1 and 9, and that the 2nd argument is greater than the 1st one.***\n"
     ]
    }
   ],
   "source": [
    "pattern(6,1)"
   ]
  },
  {
   "cell_type": "code",
   "execution_count": 65,
   "id": "2c92d3ed",
   "metadata": {},
   "outputs": [
    {
     "name": "stdout",
     "output_type": "stream",
     "text": [
      "***REMINDER: Please make sure the two arguments are between 1 and 9, and that the 2nd argument is greater than the 1st one.***\n"
     ]
    }
   ],
   "source": [
    "pattern(0,7)"
   ]
  },
  {
   "cell_type": "code",
   "execution_count": 66,
   "id": "9fa395d2",
   "metadata": {},
   "outputs": [
    {
     "name": "stdout",
     "output_type": "stream",
     "text": [
      "***REMINDER: Please make sure the two arguments are between 1 and 9, and that the 2nd argument is greater than the 1st one.***\n"
     ]
    }
   ],
   "source": [
    "pattern(5,12)"
   ]
  },
  {
   "cell_type": "code",
   "execution_count": 67,
   "id": "771fd9f0",
   "metadata": {},
   "outputs": [
    {
     "name": "stdout",
     "output_type": "stream",
     "text": [
      "1 22\n"
     ]
    }
   ],
   "source": [
    "pattern(1,3)"
   ]
  },
  {
   "cell_type": "code",
   "execution_count": 68,
   "id": "4957563d",
   "metadata": {},
   "outputs": [
    {
     "name": "stdout",
     "output_type": "stream",
     "text": [
      "55555 333\n",
      "4444 4444\n",
      "333 55555\n",
      "22 666666\n",
      "1 7777777\n"
     ]
    }
   ],
   "source": [
    "pattern(5,8)"
   ]
  },
  {
   "cell_type": "code",
   "execution_count": 69,
   "id": "cf5ee638",
   "metadata": {},
   "outputs": [
    {
     "name": "stdout",
     "output_type": "stream",
     "text": [
      "88888888 1\n",
      "7777777 22\n",
      "666666 333\n",
      "55555 4444\n",
      "4444 55555\n",
      "333 666666\n",
      "22 7777777\n",
      "1 88888888\n"
     ]
    }
   ],
   "source": [
    "pattern(8,9)"
   ]
  },
  {
   "cell_type": "markdown",
   "id": "75c9758e",
   "metadata": {},
   "source": [
    "## Q3 output"
   ]
  },
  {
   "cell_type": "code",
   "execution_count": 15,
   "id": "a4e7a2df",
   "metadata": {},
   "outputs": [],
   "source": [
    "def minnmax():\n",
    "    numlist=[]\n",
    "    while True:\n",
    "        num=input(\"Enter an integer number or done: \")\n",
    "        if num==\"done\":\n",
    "            if not numlist:\n",
    "                print(\"***No number received, bye***\")\n",
    "            else:\n",
    "                numlist.sort()\n",
    "                print(f\"\\nThe smallest number you entered is: {numlist[0]}\\nThe biggest number you entered is: {numlist[-1]}\")\n",
    "            break\n",
    "        try:\n",
    "            numlist.append(int(num))\n",
    "        except:\n",
    "            print(\"***REMINDER: please enter an integer number or done***\")"
   ]
  },
  {
   "cell_type": "code",
   "execution_count": 108,
   "id": "9722a07e",
   "metadata": {},
   "outputs": [
    {
     "name": "stdout",
     "output_type": "stream",
     "text": [
      "Enter an integer number or done: 5\n",
      "Enter an integer number or done: -2\n",
      "Enter an integer number or done: hku\n",
      "***REMINDER: please enter an integer number or done***\n",
      "Enter an integer number or done: 3.6\n",
      "***REMINDER: please enter an integer number or done***\n",
      "Enter an integer number or done: 11\n",
      "Enter an integer number or done: 5.8\n",
      "***REMINDER: please enter an integer number or done***\n",
      "Enter an integer number or done: -9\n",
      "Enter an integer number or done: 0\n",
      "Enter an integer number or done: 8\n",
      "Enter an integer number or done: done\n",
      "\n",
      "The smallest number you entered is: -9\n",
      "The biggest number you entered is: 11\n"
     ]
    }
   ],
   "source": [
    "minnmax()"
   ]
  },
  {
   "cell_type": "code",
   "execution_count": 16,
   "id": "fde60f17",
   "metadata": {},
   "outputs": [
    {
     "name": "stdout",
     "output_type": "stream",
     "text": [
      "Enter an integer number or done: done\n",
      "***No number received, bye***\n"
     ]
    }
   ],
   "source": [
    "minnmax()"
   ]
  },
  {
   "cell_type": "markdown",
   "id": "e6f89ae1",
   "metadata": {},
   "source": [
    "## Q4 output"
   ]
  },
  {
   "cell_type": "code",
   "execution_count": 9,
   "id": "5bda24a6",
   "metadata": {},
   "outputs": [],
   "source": [
    "def discount(LaName, OriPrice):\n",
    "    price=OriPrice\n",
    "    if LaName[0].lower()==\"d\":\n",
    "        price-=10\n",
    "    if len(LaName)>1:\n",
    "        if (LaName[1].lower()==\"i\") and (OriPrice>=1000):\n",
    "            price-=100\n",
    "    if len(LaName)>2:\n",
    "        if LaName[2].lower()==\"r\":\n",
    "            if OriPrice>=5000:\n",
    "                price-=500\n",
    "            elif 500<=OriPrice<5000:\n",
    "                price-=300\n",
    "                \n",
    "    print(f\"The discounted price is: ${price}.\")"
   ]
  },
  {
   "cell_type": "code",
   "execution_count": 10,
   "id": "0b7fca62",
   "metadata": {},
   "outputs": [
    {
     "name": "stdout",
     "output_type": "stream",
     "text": [
      "The discounted price is: $10000.\n"
     ]
    }
   ],
   "source": [
    "discount('Wong', 10000)"
   ]
  },
  {
   "cell_type": "code",
   "execution_count": 8,
   "id": "46d452aa",
   "metadata": {},
   "outputs": [
    {
     "name": "stdout",
     "output_type": "stream",
     "text": [
      "The discounted price is: $5.\n"
     ]
    }
   ],
   "source": [
    "discount('d', 15)"
   ]
  },
  {
   "cell_type": "code",
   "execution_count": 11,
   "id": "4707e5fb",
   "metadata": {},
   "outputs": [
    {
     "name": "stdout",
     "output_type": "stream",
     "text": [
      "The discounted price is: $4460.\n"
     ]
    }
   ],
   "source": [
    "discount('Li', 4560)"
   ]
  },
  {
   "cell_type": "code",
   "execution_count": 12,
   "id": "1c647834",
   "metadata": {},
   "outputs": [
    {
     "name": "stdout",
     "output_type": "stream",
     "text": [
      "The discounted price is: $5890.\n"
     ]
    }
   ],
   "source": [
    "discount('Ding', 6000)"
   ]
  },
  {
   "cell_type": "code",
   "execution_count": 13,
   "id": "47153bf2",
   "metadata": {},
   "outputs": [
    {
     "name": "stdout",
     "output_type": "stream",
     "text": [
      "The discounted price is: $5190.\n"
     ]
    }
   ],
   "source": [
    "discount('DIREN', 5800)"
   ]
  },
  {
   "cell_type": "markdown",
   "id": "dda4c4e9",
   "metadata": {},
   "source": [
    "## Q5 output"
   ]
  },
  {
   "cell_type": "code",
   "execution_count": 34,
   "id": "30b68b25",
   "metadata": {},
   "outputs": [],
   "source": [
    "def DistSub(text,k):\n",
    "    if k>len(text):\n",
    "        print(\"There is no such substring.\") \n",
    "        return\n",
    "    temp=set()\n",
    "    for i in range(len(text)-k+1):\n",
    "        temp.add(text.upper()[i:i+k])\n",
    "    if k==len(text):\n",
    "        print(f\"There is only one distinct substring in {text}, which is itself.\")\n",
    "    else:\n",
    "        print(f\"There are {len(temp)} distinct substrings in {text}. They are:\")\n",
    "        for i in sorted(temp):\n",
    "            print(i, end=\"   \")"
   ]
  },
  {
   "cell_type": "code",
   "execution_count": 39,
   "id": "5c0d93ed",
   "metadata": {},
   "outputs": [
    {
     "name": "stdout",
     "output_type": "stream",
     "text": [
      "There is no such substring.\n"
     ]
    }
   ],
   "source": [
    "DistSub('ABCAB',8)"
   ]
  },
  {
   "cell_type": "code",
   "execution_count": 35,
   "id": "4c3693b5",
   "metadata": {},
   "outputs": [
    {
     "name": "stdout",
     "output_type": "stream",
     "text": [
      "There is only one distinct substring in ACBAB, which is itself.\n"
     ]
    }
   ],
   "source": [
    "DistSub('ACBAB',5)"
   ]
  },
  {
   "cell_type": "code",
   "execution_count": 36,
   "id": "e5a99bff",
   "metadata": {},
   "outputs": [
    {
     "name": "stdout",
     "output_type": "stream",
     "text": [
      "There are 3 distinct substrings in ABCAB. They are:\n",
      "ABC   BCA   CAB   "
     ]
    }
   ],
   "source": [
    "DistSub('ABCAB',3)"
   ]
  },
  {
   "cell_type": "code",
   "execution_count": 37,
   "id": "34f81bd0",
   "metadata": {},
   "outputs": [
    {
     "name": "stdout",
     "output_type": "stream",
     "text": [
      "There are 3 distinct substrings in ABCAB. They are:\n",
      "AB   BC   CA   "
     ]
    }
   ],
   "source": [
    "DistSub('ABCAB',2)"
   ]
  },
  {
   "cell_type": "code",
   "execution_count": 38,
   "id": "1a1e0a7f",
   "metadata": {},
   "outputs": [
    {
     "name": "stdout",
     "output_type": "stream",
     "text": [
      "There are 3 distinct substrings in ABCab. They are:\n",
      "AB   BC   CA   "
     ]
    }
   ],
   "source": [
    "DistSub('ABCab',2)"
   ]
  },
  {
   "cell_type": "markdown",
   "id": "58243ae9",
   "metadata": {},
   "source": [
    "## Q6 output"
   ]
  },
  {
   "cell_type": "code",
   "execution_count": 147,
   "id": "8c1de630",
   "metadata": {},
   "outputs": [],
   "source": [
    "def isbn_check(isbn):\n",
    "    x=[*isbn.replace(\"-\", \"\")]\n",
    "    if x[-1]==\"X\":\n",
    "        x[-1]=10\n",
    "    y=0\n",
    "    for i in range(10):\n",
    "        y+=int(x[i])*(10-i)\n",
    "    if y%11==0:\n",
    "        print(\"Valid\")\n",
    "    else: print(\"Invalid\")"
   ]
  },
  {
   "cell_type": "code",
   "execution_count": 148,
   "id": "d4970be0",
   "metadata": {},
   "outputs": [
    {
     "name": "stdout",
     "output_type": "stream",
     "text": [
      "Valid\n"
     ]
    }
   ],
   "source": [
    "isbn_check('3-598-21507-X')"
   ]
  },
  {
   "cell_type": "code",
   "execution_count": 149,
   "id": "15ed3cbb",
   "metadata": {},
   "outputs": [
    {
     "name": "stdout",
     "output_type": "stream",
     "text": [
      "Invalid\n"
     ]
    }
   ],
   "source": [
    "isbn_check('3-598-41508-8')"
   ]
  },
  {
   "cell_type": "markdown",
   "id": "360334af",
   "metadata": {},
   "source": [
    "## Q7 output"
   ]
  },
  {
   "cell_type": "code",
   "execution_count": 53,
   "id": "ff2e0d8c",
   "metadata": {},
   "outputs": [],
   "source": [
    "def rotate_letter(letter, rotation):\n",
    "    try:\n",
    "        if letter.isupper():\n",
    "            start_code = ord('A')\n",
    "            end_code = ord('Z')\n",
    "        elif letter.islower():\n",
    "            start_code = ord('a')\n",
    "            end_code = ord('z')\n",
    "        new_position = (ord(letter) - start_code + rotation) % 26\n",
    "        rotated_letter = chr(start_code + new_position)\n",
    "    \n",
    "        return rotated_letter\n",
    "    except:\n",
    "        print(\"***REMINDER: Your input is not valid.***\")\n",
    "    "
   ]
  },
  {
   "cell_type": "code",
   "execution_count": 54,
   "id": "fa3ebb2e",
   "metadata": {},
   "outputs": [
    {
     "data": {
      "text/plain": [
       "'w'"
      ]
     },
     "execution_count": 54,
     "metadata": {},
     "output_type": "execute_result"
    }
   ],
   "source": [
    "rotate_letter('t',3)"
   ]
  },
  {
   "cell_type": "code",
   "execution_count": 56,
   "id": "96ea6297",
   "metadata": {},
   "outputs": [
    {
     "data": {
      "text/plain": [
       "'D'"
      ]
     },
     "execution_count": 56,
     "metadata": {},
     "output_type": "execute_result"
    }
   ],
   "source": [
    "rotate_letter('Y',5)"
   ]
  },
  {
   "cell_type": "code",
   "execution_count": 57,
   "id": "cf78e603",
   "metadata": {},
   "outputs": [
    {
     "name": "stdout",
     "output_type": "stream",
     "text": [
      "***REMINDER: Your input is not valid.***\n"
     ]
    }
   ],
   "source": [
    "rotate_letter('k',20.1)"
   ]
  },
  {
   "cell_type": "code",
   "execution_count": 58,
   "id": "87850dc0",
   "metadata": {},
   "outputs": [
    {
     "name": "stdout",
     "output_type": "stream",
     "text": [
      "***REMINDER: Your input is not valid.***\n"
     ]
    }
   ],
   "source": [
    "rotate_letter('abc',19)"
   ]
  },
  {
   "cell_type": "code",
   "execution_count": 62,
   "id": "33de20a8",
   "metadata": {},
   "outputs": [
    {
     "data": {
      "text/plain": [
       "'Z'"
      ]
     },
     "execution_count": 62,
     "metadata": {},
     "output_type": "execute_result"
    }
   ],
   "source": [
    "rotate_letter('D',-4)"
   ]
  },
  {
   "cell_type": "code",
   "execution_count": 59,
   "id": "549bcf31",
   "metadata": {},
   "outputs": [
    {
     "name": "stdout",
     "output_type": "stream",
     "text": [
      "***REMINDER: Your input is not valid.***\n"
     ]
    }
   ],
   "source": [
    "rotate_letter('?',8)"
   ]
  },
  {
   "cell_type": "code",
   "execution_count": 60,
   "id": "6976d89d",
   "metadata": {},
   "outputs": [
    {
     "name": "stdout",
     "output_type": "stream",
     "text": [
      "***REMINDER: Your input is not valid.***\n"
     ]
    }
   ],
   "source": [
    "rotate_letter(7,109)"
   ]
  },
  {
   "cell_type": "code",
   "execution_count": 61,
   "id": "e101f507",
   "metadata": {},
   "outputs": [
    {
     "name": "stdout",
     "output_type": "stream",
     "text": [
      "***REMINDER: Your input is not valid.***\n"
     ]
    }
   ],
   "source": [
    "rotate_letter(20,'k')"
   ]
  },
  {
   "cell_type": "code",
   "execution_count": null,
   "id": "b8841908",
   "metadata": {},
   "outputs": [],
   "source": []
  }
 ],
 "metadata": {
  "kernelspec": {
   "display_name": "Python 3 (ipykernel)",
   "language": "python",
   "name": "python3"
  },
  "language_info": {
   "codemirror_mode": {
    "name": "ipython",
    "version": 3
   },
   "file_extension": ".py",
   "mimetype": "text/x-python",
   "name": "python",
   "nbconvert_exporter": "python",
   "pygments_lexer": "ipython3",
   "version": "3.11.4"
  }
 },
 "nbformat": 4,
 "nbformat_minor": 5
}
