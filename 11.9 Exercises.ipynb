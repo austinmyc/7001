{
 "cells": [
  {
   "cell_type": "markdown",
   "id": "eb467a77",
   "metadata": {},
   "source": [
    "### Exercise 1 simulate grep command"
   ]
  },
  {
   "cell_type": "code",
   "execution_count": 16,
   "id": "4ffb4ecb",
   "metadata": {},
   "outputs": [
    {
     "name": "stdout",
     "output_type": "stream",
     "text": [
      "Enter a regular expression: ^Author\n",
      "mbox.txt had 1798 lines that matched ^Author.\n"
     ]
    }
   ],
   "source": [
    "import re\n",
    "string=input(\"Enter a regular expression: \")\n",
    "count=0\n",
    "with open(\"mbox.txt\") as file:\n",
    "    for line in file:\n",
    "        \n",
    "        if re.findall(string, line)!=[]:\n",
    "            count+=1\n",
    "print(f\"mbox.txt had {count} lines that matched {string}.\")"
   ]
  },
  {
   "cell_type": "markdown",
   "id": "0c4139d5",
   "metadata": {},
   "source": [
    "### Exercise 2 Extract number from lines"
   ]
  },
  {
   "cell_type": "code",
   "execution_count": 35,
   "id": "272f2111",
   "metadata": {},
   "outputs": [
    {
     "name": "stdout",
     "output_type": "stream",
     "text": [
      "Enter file:mbox-short.txt\n",
      "39756.92592592593\n"
     ]
    }
   ],
   "source": [
    "import re\n",
    "filename=input(\"Enter file:\")\n",
    "num=[]\n",
    "with open(filename) as file:\n",
    "    for line in file:\n",
    "        line=line.rstrip()\n",
    "        x=re.findall(\"^New Revision: ([0-9.]+)\", line)\n",
    "        if len(x)>0:\n",
    "            num.append(int(x[0]))\n",
    "print(sum(num)/len(num))"
   ]
  },
  {
   "cell_type": "code",
   "execution_count": 29,
   "id": "ff54788f",
   "metadata": {},
   "outputs": [
    {
     "name": "stdout",
     "output_type": "stream",
     "text": [
      "New Revision : 39772\n"
     ]
    }
   ],
   "source": []
  },
  {
   "cell_type": "code",
   "execution_count": null,
   "id": "b74a1494",
   "metadata": {},
   "outputs": [],
   "source": []
  }
 ],
 "metadata": {
  "kernelspec": {
   "display_name": "Python 3 (ipykernel)",
   "language": "python",
   "name": "python3"
  },
  "language_info": {
   "codemirror_mode": {
    "name": "ipython",
    "version": 3
   },
   "file_extension": ".py",
   "mimetype": "text/x-python",
   "name": "python",
   "nbconvert_exporter": "python",
   "pygments_lexer": "ipython3",
   "version": "3.11.4"
  }
 },
 "nbformat": 4,
 "nbformat_minor": 5
}
